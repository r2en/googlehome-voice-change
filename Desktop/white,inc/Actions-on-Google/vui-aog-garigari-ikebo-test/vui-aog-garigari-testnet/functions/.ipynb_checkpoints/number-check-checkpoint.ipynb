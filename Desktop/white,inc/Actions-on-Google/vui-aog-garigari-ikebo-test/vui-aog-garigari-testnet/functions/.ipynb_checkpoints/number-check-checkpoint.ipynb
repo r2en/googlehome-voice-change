{
 "cells": [
  {
   "cell_type": "code",
   "execution_count": 10,
   "metadata": {
    "collapsed": false
   },
   "outputs": [],
   "source": [
    "import csv\n",
    "f = open('out-sheet.csv', 'r')\n",
    "reader = csv.reader(f)\n",
    "#for i, row in enumerate(reader):\n",
    "#        print('    ' + 'msg_{0}'.format(i) + ': ' + \"['\" + row[1][:5].replace('\\n', '') + \"'], \" + row[0] + '\\n') \n",
    "with open('number-check.txt', mode='w') as f:\n",
    "    for i, row in enumerate(reader):\n",
    "        #print(row[1].replace('\\n', ''))\n",
    "        f.write('    ' + 'msg_{0}'.format(i) + ': ' + \"['\" + row[1][:5].replace('\\n', '') + \"'], \" + row[0] + '\\n') "
   ]
  },
  {
   "cell_type": "code",
   "execution_count": null,
   "metadata": {
    "collapsed": true
   },
   "outputs": [],
   "source": []
  }
 ],
 "metadata": {
  "kernelspec": {
   "display_name": "Python 3",
   "language": "python",
   "name": "python3"
  },
  "language_info": {
   "codemirror_mode": {
    "name": "ipython",
    "version": 3
   },
   "file_extension": ".py",
   "mimetype": "text/x-python",
   "name": "python",
   "nbconvert_exporter": "python",
   "pygments_lexer": "ipython3",
   "version": "3.6.0"
  }
 },
 "nbformat": 4,
 "nbformat_minor": 2
}
