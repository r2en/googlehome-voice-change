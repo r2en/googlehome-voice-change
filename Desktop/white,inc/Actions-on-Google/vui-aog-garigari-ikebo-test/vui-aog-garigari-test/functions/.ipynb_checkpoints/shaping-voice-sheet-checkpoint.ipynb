{
 "cells": [
  {
   "cell_type": "code",
   "execution_count": 4,
   "metadata": {
    "collapsed": true
   },
   "outputs": [],
   "source": [
    "import csv"
   ]
  },
  {
   "cell_type": "code",
   "execution_count": 5,
   "metadata": {
    "collapsed": true
   },
   "outputs": [],
   "source": [
    "f = open('out-sheet.csv', 'r')"
   ]
  },
  {
   "cell_type": "code",
   "execution_count": 6,
   "metadata": {
    "collapsed": true
   },
   "outputs": [],
   "source": [
    "reader = csv.reader(f)"
   ]
  },
  {
   "cell_type": "code",
   "execution_count": 7,
   "metadata": {
    "collapsed": true
   },
   "outputs": [],
   "source": [
    "with open('shaping-voice-sheet.js', mode='w') as f:\n",
    "    for row in reader:\n",
    "        #f.write('    ' + row[0] + ': ' + \"['\" + row[1] + \"'],\" + '\\n') \n",
    "        #f.write('    ' + row[0] + ': ' + \"['\"+ row[0] + '.wav' + \"'],\" + '\\n')\n",
    "        f.write('    ' + row[0] + ': ' + \"['\"+ 'output0' + '.wav' + \"'],\" + '\\n')"
   ]
  }
 ],
 "metadata": {
  "kernelspec": {
   "display_name": "Python 3",
   "language": "python",
   "name": "python3"
  },
  "language_info": {
   "codemirror_mode": {
    "name": "ipython",
    "version": 3
   },
   "file_extension": ".py",
   "mimetype": "text/x-python",
   "name": "python",
   "nbconvert_exporter": "python",
   "pygments_lexer": "ipython3",
   "version": "3.6.0"
  }
 },
 "nbformat": 4,
 "nbformat_minor": 2
}
