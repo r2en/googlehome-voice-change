{
 "cells": [
  {
   "cell_type": "code",
   "execution_count": 1,
   "metadata": {
    "collapsed": false
   },
   "outputs": [
    {
     "name": "stderr",
     "output_type": "stream",
     "text": [
      "/Users/takayoshi-endo/.anyenv/envs/pyenv/versions/anaconda3-4.3.1/lib/python3.6/site-packages/matplotlib/__init__.py:1401: UserWarning:  This call to matplotlib.use() has no effect\n",
      "because the backend has already been chosen;\n",
      "matplotlib.use() must be called *before* pylab, matplotlib.pyplot,\n",
      "or matplotlib.backends is imported for the first time.\n",
      "\n",
      "  warnings.warn(_use_error_msg)\n"
     ]
    }
   ],
   "source": [
    "import numpy as np\n",
    "import pandas as pd\n",
    "import matplotlib.pyplot as plt\n",
    "import seaborn as sns\n",
    "import pandas_profiling as pdp\n",
    "%matplotlib inline\n",
    "from IPython.core.interactiveshell import InteractiveShell\n",
    "InteractiveShell.ast_node_interactivity = 'all'"
   ]
  },
  {
   "cell_type": "code",
   "execution_count": 2,
   "metadata": {
    "collapsed": true
   },
   "outputs": [],
   "source": [
    "merck_train_path = './kaggle-data/Merck/TrainingSet/ACT10_competition_training.csv'\n",
    "merck_test_path = './kaggle-data/Merck/TestSet/ACT10_competition_test.csv'"
   ]
  },
  {
   "cell_type": "code",
   "execution_count": 3,
   "metadata": {
    "collapsed": false
   },
   "outputs": [],
   "source": [
    "train = pd.read_csv(merck_train_path)\n",
    "test = pd.read_csv(merck_test_path)"
   ]
  },
  {
   "cell_type": "code",
   "execution_count": null,
   "metadata": {
    "collapsed": false
   },
   "outputs": [],
   "source": [
    "train.shape"
   ]
  },
  {
   "cell_type": "code",
   "execution_count": null,
   "metadata": {
    "collapsed": false
   },
   "outputs": [],
   "source": [
    "test.shape"
   ]
  },
  {
   "cell_type": "code",
   "execution_count": null,
   "metadata": {
    "collapsed": false
   },
   "outputs": [],
   "source": [
    "train.head()"
   ]
  },
  {
   "cell_type": "code",
   "execution_count": null,
   "metadata": {
    "collapsed": false
   },
   "outputs": [],
   "source": [
    "test.head()"
   ]
  },
  {
   "cell_type": "code",
   "execution_count": null,
   "metadata": {
    "collapsed": false
   },
   "outputs": [],
   "source": [
    "train.isnull().any()\n",
    "test.isnull().any()"
   ]
  },
  {
   "cell_type": "code",
   "execution_count": null,
   "metadata": {
    "collapsed": false
   },
   "outputs": [],
   "source": [
    "train['Act'].hist()"
   ]
  },
  {
   "cell_type": "code",
   "execution_count": null,
   "metadata": {
    "collapsed": false
   },
   "outputs": [],
   "source": [
    "train['D_3'].hist()"
   ]
  },
  {
   "cell_type": "code",
   "execution_count": null,
   "metadata": {
    "collapsed": false
   },
   "outputs": [],
   "source": [
    "train['D_5'].hist()"
   ]
  },
  {
   "cell_type": "code",
   "execution_count": null,
   "metadata": {
    "collapsed": false
   },
   "outputs": [],
   "source": [
    "train['D_6'].hist()"
   ]
  },
  {
   "cell_type": "markdown",
   "metadata": {
    "collapsed": true
   },
   "source": [
    "### 次元削減"
   ]
  },
  {
   "cell_type": "code",
   "execution_count": 4,
   "metadata": {
    "collapsed": true
   },
   "outputs": [],
   "source": [
    "from sklearn import (manifold, decomposition, ensemble, discriminant_analysis, random_projection)"
   ]
  },
  {
   "cell_type": "code",
   "execution_count": 5,
   "metadata": {
    "collapsed": false
   },
   "outputs": [],
   "source": [
    "rp = random_projection.SparseRandomProjection(n_components=2, random_state=42)"
   ]
  },
  {
   "cell_type": "code",
   "execution_count": 6,
   "metadata": {
    "collapsed": false
   },
   "outputs": [
    {
     "data": {
      "text/html": [
       "<div>\n",
       "<table border=\"1\" class=\"dataframe\">\n",
       "  <thead>\n",
       "    <tr style=\"text-align: right;\">\n",
       "      <th></th>\n",
       "      <th>MOLECULE</th>\n",
       "      <th>Act</th>\n",
       "      <th>D_3</th>\n",
       "      <th>D_5</th>\n",
       "      <th>D_6</th>\n",
       "      <th>D_12</th>\n",
       "      <th>D_15</th>\n",
       "      <th>D_16</th>\n",
       "      <th>D_24</th>\n",
       "      <th>D_36</th>\n",
       "      <th>...</th>\n",
       "      <th>D_11031</th>\n",
       "      <th>D_11033</th>\n",
       "      <th>D_11034</th>\n",
       "      <th>D_11045</th>\n",
       "      <th>D_11047</th>\n",
       "      <th>D_11050</th>\n",
       "      <th>D_11051</th>\n",
       "      <th>D_11053</th>\n",
       "      <th>D_11056</th>\n",
       "      <th>D_11070</th>\n",
       "    </tr>\n",
       "  </thead>\n",
       "  <tbody>\n",
       "    <tr>\n",
       "      <th>11146</th>\n",
       "      <td>ACT10_M_146735</td>\n",
       "      <td>8.2867</td>\n",
       "      <td>0</td>\n",
       "      <td>0</td>\n",
       "      <td>0</td>\n",
       "      <td>0</td>\n",
       "      <td>0</td>\n",
       "      <td>0</td>\n",
       "      <td>0</td>\n",
       "      <td>0</td>\n",
       "      <td>...</td>\n",
       "      <td>0</td>\n",
       "      <td>0</td>\n",
       "      <td>0</td>\n",
       "      <td>0</td>\n",
       "      <td>0</td>\n",
       "      <td>0</td>\n",
       "      <td>0</td>\n",
       "      <td>0</td>\n",
       "      <td>0</td>\n",
       "      <td>0</td>\n",
       "    </tr>\n",
       "    <tr>\n",
       "      <th>11147</th>\n",
       "      <td>ACT10_M_146736</td>\n",
       "      <td>8.1683</td>\n",
       "      <td>0</td>\n",
       "      <td>0</td>\n",
       "      <td>0</td>\n",
       "      <td>0</td>\n",
       "      <td>0</td>\n",
       "      <td>0</td>\n",
       "      <td>0</td>\n",
       "      <td>0</td>\n",
       "      <td>...</td>\n",
       "      <td>0</td>\n",
       "      <td>0</td>\n",
       "      <td>0</td>\n",
       "      <td>0</td>\n",
       "      <td>0</td>\n",
       "      <td>0</td>\n",
       "      <td>0</td>\n",
       "      <td>0</td>\n",
       "      <td>0</td>\n",
       "      <td>0</td>\n",
       "    </tr>\n",
       "    <tr>\n",
       "      <th>11148</th>\n",
       "      <td>ACT10_M_146737</td>\n",
       "      <td>9.3716</td>\n",
       "      <td>0</td>\n",
       "      <td>0</td>\n",
       "      <td>0</td>\n",
       "      <td>0</td>\n",
       "      <td>0</td>\n",
       "      <td>0</td>\n",
       "      <td>0</td>\n",
       "      <td>0</td>\n",
       "      <td>...</td>\n",
       "      <td>0</td>\n",
       "      <td>0</td>\n",
       "      <td>0</td>\n",
       "      <td>0</td>\n",
       "      <td>0</td>\n",
       "      <td>0</td>\n",
       "      <td>0</td>\n",
       "      <td>0</td>\n",
       "      <td>0</td>\n",
       "      <td>0</td>\n",
       "    </tr>\n",
       "    <tr>\n",
       "      <th>11149</th>\n",
       "      <td>ACT10_M_146738</td>\n",
       "      <td>8.4805</td>\n",
       "      <td>0</td>\n",
       "      <td>0</td>\n",
       "      <td>0</td>\n",
       "      <td>0</td>\n",
       "      <td>0</td>\n",
       "      <td>0</td>\n",
       "      <td>0</td>\n",
       "      <td>0</td>\n",
       "      <td>...</td>\n",
       "      <td>0</td>\n",
       "      <td>0</td>\n",
       "      <td>0</td>\n",
       "      <td>0</td>\n",
       "      <td>0</td>\n",
       "      <td>0</td>\n",
       "      <td>0</td>\n",
       "      <td>0</td>\n",
       "      <td>0</td>\n",
       "      <td>0</td>\n",
       "    </tr>\n",
       "    <tr>\n",
       "      <th>11150</th>\n",
       "      <td>ACT10_M_146739</td>\n",
       "      <td>8.6705</td>\n",
       "      <td>0</td>\n",
       "      <td>0</td>\n",
       "      <td>0</td>\n",
       "      <td>0</td>\n",
       "      <td>0</td>\n",
       "      <td>0</td>\n",
       "      <td>0</td>\n",
       "      <td>0</td>\n",
       "      <td>...</td>\n",
       "      <td>0</td>\n",
       "      <td>0</td>\n",
       "      <td>0</td>\n",
       "      <td>0</td>\n",
       "      <td>0</td>\n",
       "      <td>0</td>\n",
       "      <td>0</td>\n",
       "      <td>0</td>\n",
       "      <td>0</td>\n",
       "      <td>0</td>\n",
       "    </tr>\n",
       "  </tbody>\n",
       "</table>\n",
       "<p>5 rows × 5792 columns</p>\n",
       "</div>"
      ],
      "text/plain": [
       "             MOLECULE     Act  D_3  D_5  D_6  D_12  D_15  D_16  D_24  D_36  \\\n",
       "11146  ACT10_M_146735  8.2867    0    0    0     0     0     0     0     0   \n",
       "11147  ACT10_M_146736  8.1683    0    0    0     0     0     0     0     0   \n",
       "11148  ACT10_M_146737  9.3716    0    0    0     0     0     0     0     0   \n",
       "11149  ACT10_M_146738  8.4805    0    0    0     0     0     0     0     0   \n",
       "11150  ACT10_M_146739  8.6705    0    0    0     0     0     0     0     0   \n",
       "\n",
       "        ...     D_11031  D_11033  D_11034  D_11045  D_11047  D_11050  D_11051  \\\n",
       "11146   ...           0        0        0        0        0        0        0   \n",
       "11147   ...           0        0        0        0        0        0        0   \n",
       "11148   ...           0        0        0        0        0        0        0   \n",
       "11149   ...           0        0        0        0        0        0        0   \n",
       "11150   ...           0        0        0        0        0        0        0   \n",
       "\n",
       "       D_11053  D_11056  D_11070  \n",
       "11146        0        0        0  \n",
       "11147        0        0        0  \n",
       "11148        0        0        0  \n",
       "11149        0        0        0  \n",
       "11150        0        0        0  \n",
       "\n",
       "[5 rows x 5792 columns]"
      ]
     },
     "execution_count": 6,
     "metadata": {},
     "output_type": "execute_result"
    }
   ],
   "source": [
    "train.tail()"
   ]
  },
  {
   "cell_type": "code",
   "execution_count": 7,
   "metadata": {
    "collapsed": false
   },
   "outputs": [],
   "source": [
    "train = pd.read_csv(merck_train_path, dtype=None, delimiter=',')\n",
    "test = pd.read_csv(merck_test_path, dtype=None, delimiter=',')"
   ]
  },
  {
   "cell_type": "code",
   "execution_count": null,
   "metadata": {
    "collapsed": false
   },
   "outputs": [],
   "source": [
    "train.dtypes"
   ]
  },
  {
   "cell_type": "code",
   "execution_count": null,
   "metadata": {
    "collapsed": false
   },
   "outputs": [],
   "source": [
    "test.dtypes"
   ]
  },
  {
   "cell_type": "code",
   "execution_count": 11,
   "metadata": {
    "collapsed": false
   },
   "outputs": [],
   "source": [
    "train = train.drop('Act', axis=1)"
   ]
  },
  {
   "cell_type": "code",
   "execution_count": 12,
   "metadata": {
    "collapsed": false
   },
   "outputs": [],
   "source": [
    "train = train.drop('MOLECULE', axis=1)"
   ]
  },
  {
   "cell_type": "code",
   "execution_count": null,
   "metadata": {
    "collapsed": false
   },
   "outputs": [],
   "source": [
    "train.dtypes"
   ]
  },
  {
   "cell_type": "markdown",
   "metadata": {},
   "source": [
    "## PCA 主成分分析\n",
    "固有値展開して、固有値が大きいものから固有ベクトルを基底として投影する手法"
   ]
  },
  {
   "cell_type": "code",
   "execution_count": 8,
   "metadata": {
    "collapsed": true
   },
   "outputs": [],
   "source": [
    "from sklearn.decomposition import PCA"
   ]
  },
  {
   "cell_type": "code",
   "execution_count": 13,
   "metadata": {
    "collapsed": true
   },
   "outputs": [],
   "source": [
    "pca = PCA(n_components=2)"
   ]
  },
  {
   "cell_type": "code",
   "execution_count": 14,
   "metadata": {
    "collapsed": false
   },
   "outputs": [],
   "source": [
    "merck_pca = pca.fit_transform(train)"
   ]
  },
  {
   "cell_type": "code",
   "execution_count": 15,
   "metadata": {
    "collapsed": false
   },
   "outputs": [
    {
     "data": {
      "text/plain": [
       "array([[ 19.97364656,  -5.60633097],\n",
       "       [-49.33162577, -27.8625661 ],\n",
       "       [-34.17664411, -30.12517441],\n",
       "       ..., \n",
       "       [ -6.72313471,   7.59220022],\n",
       "       [ -2.59559036,  11.97578016],\n",
       "       [ -1.22919758,  17.62143991]])"
      ]
     },
     "execution_count": 15,
     "metadata": {},
     "output_type": "execute_result"
    }
   ],
   "source": [
    "merck_pca"
   ]
  },
  {
   "cell_type": "code",
   "execution_count": 16,
   "metadata": {
    "collapsed": false
   },
   "outputs": [
    {
     "data": {
      "text/plain": [
       "<matplotlib.figure.Figure at 0x11ac0aeb8>"
      ]
     },
     "execution_count": 16,
     "metadata": {},
     "output_type": "execute_result"
    },
    {
     "data": {
      "text/plain": [
       "<seaborn.axisgrid.JointGrid at 0x11ac0ae80>"
      ]
     },
     "execution_count": 16,
     "metadata": {},
     "output_type": "execute_result"
    },
    {
     "data": {
      "text/plain": [
       "<matplotlib.figure.Figure at 0x11ac0aeb8>"
      ]
     },
     "metadata": {},
     "output_type": "display_data"
    },
    {
     "data": {
      "image/png": "[encoded data removed]",
      "text/plain": [
       "<matplotlib.figure.Figure at 0x118cc66a0>"
      ]
     },
     "metadata": {},
     "output_type": "display_data"
    }
   ],
   "source": [
    "plt.figure(figsize=(16,16))\n",
    "sns.jointplot(x = merck_pca[:,0], y = merck_pca[:,1]) "
   ]
  },
  {
   "cell_type": "code",
   "execution_count": 17,
   "metadata": {
    "collapsed": false
   },
   "outputs": [
    {
     "data": {
      "text/plain": [
       "(11151, 2)"
      ]
     },
     "execution_count": 17,
     "metadata": {},
     "output_type": "execute_result"
    }
   ],
   "source": [
    "merck_pca.shape"
   ]
  },
  {
   "cell_type": "code",
   "execution_count": 18,
   "metadata": {
    "collapsed": false
   },
   "outputs": [
    {
     "data": {
      "text/html": [
       "<div>\n",
       "<table border=\"1\" class=\"dataframe\">\n",
       "  <thead>\n",
       "    <tr style=\"text-align: right;\">\n",
       "      <th></th>\n",
       "      <th>1次元</th>\n",
       "      <th>2次元</th>\n",
       "    </tr>\n",
       "  </thead>\n",
       "  <tbody>\n",
       "    <tr>\n",
       "      <th>0</th>\n",
       "      <td>19.973647</td>\n",
       "      <td>-5.606331</td>\n",
       "    </tr>\n",
       "    <tr>\n",
       "      <th>1</th>\n",
       "      <td>-49.331626</td>\n",
       "      <td>-27.862566</td>\n",
       "    </tr>\n",
       "    <tr>\n",
       "      <th>2</th>\n",
       "      <td>-34.176644</td>\n",
       "      <td>-30.125174</td>\n",
       "    </tr>\n",
       "    <tr>\n",
       "      <th>3</th>\n",
       "      <td>-41.258206</td>\n",
       "      <td>-34.672401</td>\n",
       "    </tr>\n",
       "    <tr>\n",
       "      <th>4</th>\n",
       "      <td>-56.369038</td>\n",
       "      <td>-23.700590</td>\n",
       "    </tr>\n",
       "    <tr>\n",
       "      <th>5</th>\n",
       "      <td>-19.812443</td>\n",
       "      <td>4.753569</td>\n",
       "    </tr>\n",
       "    <tr>\n",
       "      <th>6</th>\n",
       "      <td>-13.716007</td>\n",
       "      <td>-4.731421</td>\n",
       "    </tr>\n",
       "    <tr>\n",
       "      <th>7</th>\n",
       "      <td>-27.437383</td>\n",
       "      <td>-5.366582</td>\n",
       "    </tr>\n",
       "    <tr>\n",
       "      <th>8</th>\n",
       "      <td>-64.332204</td>\n",
       "      <td>-29.521677</td>\n",
       "    </tr>\n",
       "    <tr>\n",
       "      <th>9</th>\n",
       "      <td>-24.754172</td>\n",
       "      <td>-0.874872</td>\n",
       "    </tr>\n",
       "    <tr>\n",
       "      <th>10</th>\n",
       "      <td>-4.705846</td>\n",
       "      <td>-3.869679</td>\n",
       "    </tr>\n",
       "    <tr>\n",
       "      <th>11</th>\n",
       "      <td>-31.461091</td>\n",
       "      <td>-1.566283</td>\n",
       "    </tr>\n",
       "    <tr>\n",
       "      <th>12</th>\n",
       "      <td>-15.416220</td>\n",
       "      <td>4.532007</td>\n",
       "    </tr>\n",
       "    <tr>\n",
       "      <th>13</th>\n",
       "      <td>-33.163200</td>\n",
       "      <td>-2.666636</td>\n",
       "    </tr>\n",
       "    <tr>\n",
       "      <th>14</th>\n",
       "      <td>-27.585136</td>\n",
       "      <td>-2.241486</td>\n",
       "    </tr>\n",
       "    <tr>\n",
       "      <th>15</th>\n",
       "      <td>-14.713475</td>\n",
       "      <td>-0.810872</td>\n",
       "    </tr>\n",
       "    <tr>\n",
       "      <th>16</th>\n",
       "      <td>-33.532651</td>\n",
       "      <td>-0.752815</td>\n",
       "    </tr>\n",
       "    <tr>\n",
       "      <th>17</th>\n",
       "      <td>-2.709352</td>\n",
       "      <td>-14.684804</td>\n",
       "    </tr>\n",
       "    <tr>\n",
       "      <th>18</th>\n",
       "      <td>-2.851674</td>\n",
       "      <td>-18.578402</td>\n",
       "    </tr>\n",
       "    <tr>\n",
       "      <th>19</th>\n",
       "      <td>-25.777908</td>\n",
       "      <td>4.766353</td>\n",
       "    </tr>\n",
       "    <tr>\n",
       "      <th>20</th>\n",
       "      <td>-9.659115</td>\n",
       "      <td>10.551814</td>\n",
       "    </tr>\n",
       "    <tr>\n",
       "      <th>21</th>\n",
       "      <td>-21.978222</td>\n",
       "      <td>4.012315</td>\n",
       "    </tr>\n",
       "    <tr>\n",
       "      <th>22</th>\n",
       "      <td>-27.790752</td>\n",
       "      <td>5.875829</td>\n",
       "    </tr>\n",
       "    <tr>\n",
       "      <th>23</th>\n",
       "      <td>-35.100314</td>\n",
       "      <td>-9.739266</td>\n",
       "    </tr>\n",
       "    <tr>\n",
       "      <th>24</th>\n",
       "      <td>-23.943204</td>\n",
       "      <td>-5.877951</td>\n",
       "    </tr>\n",
       "    <tr>\n",
       "      <th>25</th>\n",
       "      <td>-27.520276</td>\n",
       "      <td>-5.594789</td>\n",
       "    </tr>\n",
       "    <tr>\n",
       "      <th>26</th>\n",
       "      <td>-23.554974</td>\n",
       "      <td>-3.982806</td>\n",
       "    </tr>\n",
       "    <tr>\n",
       "      <th>27</th>\n",
       "      <td>-22.097152</td>\n",
       "      <td>4.513524</td>\n",
       "    </tr>\n",
       "    <tr>\n",
       "      <th>28</th>\n",
       "      <td>-44.673632</td>\n",
       "      <td>-12.886555</td>\n",
       "    </tr>\n",
       "    <tr>\n",
       "      <th>29</th>\n",
       "      <td>-21.889323</td>\n",
       "      <td>-5.413530</td>\n",
       "    </tr>\n",
       "    <tr>\n",
       "      <th>...</th>\n",
       "      <td>...</td>\n",
       "      <td>...</td>\n",
       "    </tr>\n",
       "    <tr>\n",
       "      <th>11121</th>\n",
       "      <td>-12.380390</td>\n",
       "      <td>1.768996</td>\n",
       "    </tr>\n",
       "    <tr>\n",
       "      <th>11122</th>\n",
       "      <td>-9.311443</td>\n",
       "      <td>9.941123</td>\n",
       "    </tr>\n",
       "    <tr>\n",
       "      <th>11123</th>\n",
       "      <td>-12.512755</td>\n",
       "      <td>2.107199</td>\n",
       "    </tr>\n",
       "    <tr>\n",
       "      <th>11124</th>\n",
       "      <td>0.476724</td>\n",
       "      <td>32.971007</td>\n",
       "    </tr>\n",
       "    <tr>\n",
       "      <th>11125</th>\n",
       "      <td>-8.812961</td>\n",
       "      <td>8.217046</td>\n",
       "    </tr>\n",
       "    <tr>\n",
       "      <th>11126</th>\n",
       "      <td>11.188157</td>\n",
       "      <td>-5.646133</td>\n",
       "    </tr>\n",
       "    <tr>\n",
       "      <th>11127</th>\n",
       "      <td>1.145669</td>\n",
       "      <td>4.575971</td>\n",
       "    </tr>\n",
       "    <tr>\n",
       "      <th>11128</th>\n",
       "      <td>-22.361357</td>\n",
       "      <td>-15.043625</td>\n",
       "    </tr>\n",
       "    <tr>\n",
       "      <th>11129</th>\n",
       "      <td>17.956141</td>\n",
       "      <td>33.746662</td>\n",
       "    </tr>\n",
       "    <tr>\n",
       "      <th>11130</th>\n",
       "      <td>-1.426869</td>\n",
       "      <td>3.103488</td>\n",
       "    </tr>\n",
       "    <tr>\n",
       "      <th>11131</th>\n",
       "      <td>-12.389458</td>\n",
       "      <td>11.749021</td>\n",
       "    </tr>\n",
       "    <tr>\n",
       "      <th>11132</th>\n",
       "      <td>-12.351594</td>\n",
       "      <td>11.157205</td>\n",
       "    </tr>\n",
       "    <tr>\n",
       "      <th>11133</th>\n",
       "      <td>-20.664051</td>\n",
       "      <td>8.843617</td>\n",
       "    </tr>\n",
       "    <tr>\n",
       "      <th>11134</th>\n",
       "      <td>-14.407080</td>\n",
       "      <td>18.675614</td>\n",
       "    </tr>\n",
       "    <tr>\n",
       "      <th>11135</th>\n",
       "      <td>-14.985125</td>\n",
       "      <td>15.800716</td>\n",
       "    </tr>\n",
       "    <tr>\n",
       "      <th>11136</th>\n",
       "      <td>-11.960937</td>\n",
       "      <td>13.357975</td>\n",
       "    </tr>\n",
       "    <tr>\n",
       "      <th>11137</th>\n",
       "      <td>-11.422008</td>\n",
       "      <td>16.477336</td>\n",
       "    </tr>\n",
       "    <tr>\n",
       "      <th>11138</th>\n",
       "      <td>-1.923308</td>\n",
       "      <td>20.636920</td>\n",
       "    </tr>\n",
       "    <tr>\n",
       "      <th>11139</th>\n",
       "      <td>-21.035906</td>\n",
       "      <td>18.172761</td>\n",
       "    </tr>\n",
       "    <tr>\n",
       "      <th>11140</th>\n",
       "      <td>-15.339610</td>\n",
       "      <td>21.072803</td>\n",
       "    </tr>\n",
       "    <tr>\n",
       "      <th>11141</th>\n",
       "      <td>-16.933935</td>\n",
       "      <td>18.757954</td>\n",
       "    </tr>\n",
       "    <tr>\n",
       "      <th>11142</th>\n",
       "      <td>-16.875017</td>\n",
       "      <td>18.586040</td>\n",
       "    </tr>\n",
       "    <tr>\n",
       "      <th>11143</th>\n",
       "      <td>-13.087737</td>\n",
       "      <td>16.410190</td>\n",
       "    </tr>\n",
       "    <tr>\n",
       "      <th>11144</th>\n",
       "      <td>-1.907464</td>\n",
       "      <td>20.346196</td>\n",
       "    </tr>\n",
       "    <tr>\n",
       "      <th>11145</th>\n",
       "      <td>-14.801358</td>\n",
       "      <td>0.468903</td>\n",
       "    </tr>\n",
       "    <tr>\n",
       "      <th>11146</th>\n",
       "      <td>-15.937202</td>\n",
       "      <td>-7.230595</td>\n",
       "    </tr>\n",
       "    <tr>\n",
       "      <th>11147</th>\n",
       "      <td>-19.095382</td>\n",
       "      <td>-1.329534</td>\n",
       "    </tr>\n",
       "    <tr>\n",
       "      <th>11148</th>\n",
       "      <td>-6.723135</td>\n",
       "      <td>7.592200</td>\n",
       "    </tr>\n",
       "    <tr>\n",
       "      <th>11149</th>\n",
       "      <td>-2.595590</td>\n",
       "      <td>11.975780</td>\n",
       "    </tr>\n",
       "    <tr>\n",
       "      <th>11150</th>\n",
       "      <td>-1.229198</td>\n",
       "      <td>17.621440</td>\n",
       "    </tr>\n",
       "  </tbody>\n",
       "</table>\n",
       "<p>11151 rows × 2 columns</p>\n",
       "</div>"
      ],
      "text/plain": [
       "             1次元        2次元\n",
       "0      19.973647  -5.606331\n",
       "1     -49.331626 -27.862566\n",
       "2     -34.176644 -30.125174\n",
       "3     -41.258206 -34.672401\n",
       "4     -56.369038 -23.700590\n",
       "5     -19.812443   4.753569\n",
       "6     -13.716007  -4.731421\n",
       "7     -27.437383  -5.366582\n",
       "8     -64.332204 -29.521677\n",
       "9     -24.754172  -0.874872\n",
       "10     -4.705846  -3.869679\n",
       "11    -31.461091  -1.566283\n",
       "12    -15.416220   4.532007\n",
       "13    -33.163200  -2.666636\n",
       "14    -27.585136  -2.241486\n",
       "15    -14.713475  -0.810872\n",
       "16    -33.532651  -0.752815\n",
       "17     -2.709352 -14.684804\n",
       "18     -2.851674 -18.578402\n",
       "19    -25.777908   4.766353\n",
       "20     -9.659115  10.551814\n",
       "21    -21.978222   4.012315\n",
       "22    -27.790752   5.875829\n",
       "23    -35.100314  -9.739266\n",
       "24    -23.943204  -5.877951\n",
       "25    -27.520276  -5.594789\n",
       "26    -23.554974  -3.982806\n",
       "27    -22.097152   4.513524\n",
       "28    -44.673632 -12.886555\n",
       "29    -21.889323  -5.413530\n",
       "...          ...        ...\n",
       "11121 -12.380390   1.768996\n",
       "11122  -9.311443   9.941123\n",
       "11123 -12.512755   2.107199\n",
       "11124   0.476724  32.971007\n",
       "11125  -8.812961   8.217046\n",
       "11126  11.188157  -5.646133\n",
       "11127   1.145669   4.575971\n",
       "11128 -22.361357 -15.043625\n",
       "11129  17.956141  33.746662\n",
       "11130  -1.426869   3.103488\n",
       "11131 -12.389458  11.749021\n",
       "11132 -12.351594  11.157205\n",
       "11133 -20.664051   8.843617\n",
       "11134 -14.407080  18.675614\n",
       "11135 -14.985125  15.800716\n",
       "11136 -11.960937  13.357975\n",
       "11137 -11.422008  16.477336\n",
       "11138  -1.923308  20.636920\n",
       "11139 -21.035906  18.172761\n",
       "11140 -15.339610  21.072803\n",
       "11141 -16.933935  18.757954\n",
       "11142 -16.875017  18.586040\n",
       "11143 -13.087737  16.410190\n",
       "11144  -1.907464  20.346196\n",
       "11145 -14.801358   0.468903\n",
       "11146 -15.937202  -7.230595\n",
       "11147 -19.095382  -1.329534\n",
       "11148  -6.723135   7.592200\n",
       "11149  -2.595590  11.975780\n",
       "11150  -1.229198  17.621440\n",
       "\n",
       "[11151 rows x 2 columns]"
      ]
     },
     "execution_count": 18,
     "metadata": {},
     "output_type": "execute_result"
    }
   ],
   "source": [
    "df = pd.DataFrame(merck_pca, columns = ['1次元', '2次元'])\n",
    "df"
   ]
  },
  {
   "cell_type": "code",
   "execution_count": null,
   "metadata": {
    "collapsed": true
   },
   "outputs": [],
   "source": [
    "sns.pairplot(df, hue= '1次元')"
   ]
  },
  {
   "cell_type": "markdown",
   "metadata": {},
   "source": [
    "## 累積寄与率"
   ]
  },
  {
   "cell_type": "code",
   "execution_count": 23,
   "metadata": {
    "collapsed": false
   },
   "outputs": [
    {
     "name": "stdout",
     "output_type": "stream",
     "text": [
      "各次元の寄与率: [ 0.24506509  0.123622  ]\n",
      "累積寄与率: 0.3686870916197148\n"
     ]
    }
   ],
   "source": [
    "print('各次元の寄与率: {0}'.format(pca.explained_variance_ratio_))\n",
    "print('累積寄与率: {0}'.format(sum(pca.explained_variance_ratio_)))"
   ]
  },
  {
   "cell_type": "code",
   "execution_count": 37,
   "metadata": {
    "collapsed": false
   },
   "outputs": [
    {
     "data": {
      "text/plain": [
       "array([[ 19.97364658],\n",
       "       [-49.33162578],\n",
       "       [-34.17664411],\n",
       "       ..., \n",
       "       [ -6.72313473],\n",
       "       [ -2.59559039],\n",
       "       [ -1.2291976 ]])"
      ]
     },
     "execution_count": 37,
     "metadata": {},
     "output_type": "execute_result"
    },
    {
     "name": "stdout",
     "output_type": "stream",
     "text": [
      "1次元の寄与率: [ 0.24506509]\n",
      "累積寄与率: 0.2450650927736044\n"
     ]
    },
    {
     "data": {
      "text/plain": [
       "array([[ 19.97364658,  -5.6063326 ],\n",
       "       [-49.33162578, -27.86256559],\n",
       "       [-34.17664412, -30.1251738 ],\n",
       "       ..., \n",
       "       [ -6.72313471,   7.59220118],\n",
       "       [ -2.59559037,  11.97578132],\n",
       "       [ -1.22919758,  17.62144073]])"
      ]
     },
     "execution_count": 37,
     "metadata": {},
     "output_type": "execute_result"
    },
    {
     "name": "stdout",
     "output_type": "stream",
     "text": [
      "2次元の寄与率: [ 0.24506509  0.123622  ]\n",
      "累積寄与率: 0.368687091619717\n"
     ]
    },
    {
     "data": {
      "text/plain": [
       "array([[ 19.97364658,  -5.60633222,  23.03607371],\n",
       "       [-49.33162578, -27.86256556,   2.98090521],\n",
       "       [-34.17664412, -30.12517347,  -3.75201145],\n",
       "       ..., \n",
       "       [ -6.72313471,   7.59220146,  -7.05658584],\n",
       "       [ -2.59559037,  11.97578116,  -5.85156926],\n",
       "       [ -1.22919758,  17.62144048,  -9.5827422 ]])"
      ]
     },
     "execution_count": 37,
     "metadata": {},
     "output_type": "execute_result"
    },
    {
     "name": "stdout",
     "output_type": "stream",
     "text": [
      "3次元の寄与率: [ 0.24506509  0.123622    0.0946918 ]\n",
      "累積寄与率: 0.4633788900816614\n"
     ]
    },
    {
     "data": {
      "text/plain": [
       "array([[ 19.97364658,  -5.60633284,  23.03607342,   2.06676697],\n",
       "       [-49.33162578, -27.86256556,   2.98090425, -11.67327454],\n",
       "       [-34.17664412, -30.12517357,  -3.752013  ,  -7.20162953],\n",
       "       ..., \n",
       "       [ -6.72313471,   7.59220141,  -7.05658562,  -0.66106564],\n",
       "       [ -2.59559037,  11.97578121,  -5.85156913,   5.40798908],\n",
       "       [ -1.22919758,  17.62144056,  -9.58274214,   4.52072089]])"
      ]
     },
     "execution_count": 37,
     "metadata": {},
     "output_type": "execute_result"
    },
    {
     "name": "stdout",
     "output_type": "stream",
     "text": [
      "4次元の寄与率: [ 0.24506509  0.123622    0.0946918   0.0618826 ]\n",
      "累積寄与率: 0.5252614881933907\n"
     ]
    },
    {
     "data": {
      "text/plain": [
       "array([[ 19.97364658,  -5.6063326 ,  23.03607352,   2.06676212,\n",
       "         16.60392778],\n",
       "       [-49.33162578, -27.86256563,   2.98090466, -11.67326532,\n",
       "         -0.81331304],\n",
       "       [-34.17664412, -30.12517364,  -3.75201281,  -7.20162518,   4.0219803 ],\n",
       "       ..., \n",
       "       [ -6.72313471,   7.59220149,  -7.05658588,  -0.66106745,\n",
       "          0.57452999],\n",
       "       [ -2.59559037,  11.9757812 ,  -5.85156916,   5.40799234,  -1.3833032 ],\n",
       "       [ -1.22919759,  17.62144039,  -9.58274182,   4.52072817,\n",
       "          3.89523509]])"
      ]
     },
     "execution_count": 37,
     "metadata": {},
     "output_type": "execute_result"
    },
    {
     "name": "stdout",
     "output_type": "stream",
     "text": [
      "5次元の寄与率: [ 0.24506509  0.123622    0.0946918   0.0618826   0.03727502]\n",
      "累積寄与率: 0.562536506555126\n"
     ]
    },
    {
     "data": {
      "text/plain": [
       "array([[ 19.97364658,  -5.60633258,  23.03607466,   2.06675435,\n",
       "         16.60380175, -10.59104181],\n",
       "       [-49.33162578, -27.86256559,   2.98090435, -11.6732691 ,\n",
       "         -0.81337416,  -5.97306715],\n",
       "       [-34.17664412, -30.12517361,  -3.75201296,  -7.20162613,\n",
       "          4.02195337,  -3.8163515 ],\n",
       "       ..., \n",
       "       [ -6.72313471,   7.59220144,  -7.05658553,  -0.66106191,\n",
       "          0.57446995,  -2.3201174 ],\n",
       "       [ -2.59559037,  11.97578118,  -5.85156922,   5.40799581,\n",
       "         -1.38338513,  -3.57332594],\n",
       "       [ -1.22919758,  17.62144048,  -9.58274219,   4.52072323,\n",
       "          3.89511858,  -2.79198159]])"
      ]
     },
     "execution_count": 37,
     "metadata": {},
     "output_type": "execute_result"
    },
    {
     "name": "stdout",
     "output_type": "stream",
     "text": [
      "6次元の寄与率: [ 0.24506509  0.123622    0.0946918   0.0618826   0.03727502  0.02999567]\n",
      "累積寄与率: 0.5925321807526501\n"
     ]
    },
    {
     "data": {
      "text/plain": [
       "array([[ 19.97364658,  -5.6063327 ,  23.03607372, ...,  16.60408743,\n",
       "        -10.58935054,  -4.49594584],\n",
       "       [-49.33162578, -27.86256558,   2.98090443, ...,  -0.81337012,\n",
       "         -5.97309065,   4.94763436],\n",
       "       [-34.17664412, -30.12517359,  -3.75201291, ...,   4.02193026,\n",
       "         -3.81633017,   5.63794327],\n",
       "       ..., \n",
       "       [ -6.72313471,   7.59220145,  -7.05658564, ...,   0.5745039 ,\n",
       "         -2.31940656,   2.39158419],\n",
       "       [ -2.59559037,  11.97578122,  -5.85156911, ...,  -1.38338962,\n",
       "         -3.57302413,   4.61746547],\n",
       "       [ -1.22919758,  17.62144051,  -9.58274212, ...,   3.89510615,\n",
       "         -2.79198273,   5.49063769]])"
      ]
     },
     "execution_count": 37,
     "metadata": {},
     "output_type": "execute_result"
    },
    {
     "name": "stdout",
     "output_type": "stream",
     "text": [
      "7次元の寄与率: [ 0.24506509  0.123622    0.0946918   0.0618826   0.03727502  0.02999567\n",
      "  0.02845417]\n",
      "累積寄与率: 0.6209863482069198\n"
     ]
    },
    {
     "data": {
      "text/plain": [
       "array([[ 19.97364658,  -5.6063327 ,  23.03607367, ..., -10.58942603,\n",
       "         -4.49586139,   7.35416574],\n",
       "       [-49.33162578, -27.86256558,   2.98090443, ...,  -5.97310937,\n",
       "          4.94758676,  -0.99566604],\n",
       "       [-34.17664412, -30.12517359,  -3.7520129 , ...,  -3.8163014 ,\n",
       "          5.63780503,   1.62970474],\n",
       "       ..., \n",
       "       [ -6.72313471,   7.59220145,  -7.05658562, ...,  -2.31939191,\n",
       "          2.39181148,   8.88514395],\n",
       "       [ -2.59559037,  11.97578121,  -5.85156912, ...,  -3.57293293,\n",
       "          4.61765278,  10.14939325],\n",
       "       [ -1.22919758,  17.62144051,  -9.5827421 , ...,  -2.79187316,\n",
       "          5.4905168 ,  10.4270848 ]])"
      ]
     },
     "execution_count": 37,
     "metadata": {},
     "output_type": "execute_result"
    },
    {
     "name": "stdout",
     "output_type": "stream",
     "text": [
      "8次元の寄与率: [ 0.24506509  0.123622    0.0946918   0.0618826   0.03727502  0.02999567\n",
      "  0.02845417  0.02093787]\n",
      "累積寄与率: 0.6419242206627858\n"
     ]
    },
    {
     "data": {
      "text/plain": [
       "array([[ 19.97364658,  -5.60633271,  23.0360737 , ...,  -4.49587048,\n",
       "          7.35333952, -12.25165742],\n",
       "       [-49.33162578, -27.86256558,   2.98090442, ...,   4.94754893,\n",
       "         -0.99563288,   5.76616261],\n",
       "       [-34.17664412, -30.12517359,  -3.7520129 , ...,   5.63781845,\n",
       "          1.62995867,   5.49198702],\n",
       "       ..., \n",
       "       [ -6.72313471,   7.59220145,  -7.05658564, ...,   2.39185506,\n",
       "          8.8863315 ,  -0.1471249 ],\n",
       "       [ -2.59559037,  11.97578122,  -5.85156913, ...,   4.61770315,\n",
       "         10.15039751,   1.9603146 ],\n",
       "       [ -1.22919758,  17.62144051,  -9.58274211, ...,   5.4905032 ,\n",
       "         10.42780948,   1.07197764]])"
      ]
     },
     "execution_count": 37,
     "metadata": {},
     "output_type": "execute_result"
    },
    {
     "name": "stdout",
     "output_type": "stream",
     "text": [
      "9次元の寄与率: [ 0.24506509  0.123622    0.0946918   0.0618826   0.03727502  0.02999567\n",
      "  0.02845417  0.02093787  0.01935413]\n",
      "累積寄与率: 0.6612783556833003\n"
     ]
    },
    {
     "data": {
      "text/plain": [
       "array([[ 19.97364658,  -5.60633271,  23.03607371, ...,   7.3529964 ,\n",
       "        -12.25185859,  -5.71289947],\n",
       "       [-49.33162578, -27.86256558,   2.98090441, ...,  -0.99596243,\n",
       "          5.76307293,   2.85475173],\n",
       "       [-34.17664412, -30.12517359,  -3.75201291, ...,   1.62969601,\n",
       "          5.49031804,   1.22427657],\n",
       "       ..., \n",
       "       [ -6.72313471,   7.59220145,  -7.05658565, ...,   8.88621439,\n",
       "         -0.14729235, -11.1642793 ],\n",
       "       [ -2.59559037,  11.97578122,  -5.85156913, ...,  10.15052401,\n",
       "          1.96097986, -15.23322877],\n",
       "       [ -1.22919758,  17.62144051,  -9.58274211, ...,  10.42794782,\n",
       "          1.07272972, -13.54570634]])"
      ]
     },
     "execution_count": 37,
     "metadata": {},
     "output_type": "execute_result"
    },
    {
     "name": "stdout",
     "output_type": "stream",
     "text": [
      "10次元の寄与率: [ 0.24506509  0.123622    0.0946918   0.0618826   0.03727502  0.02999567\n",
      "  0.02845417  0.02093787  0.01935413  0.01838325]\n",
      "累積寄与率: 0.6796616084783117\n"
     ]
    },
    {
     "data": {
      "text/plain": [
       "array([[  1.99736466e+01,  -5.60633271e+00,   2.30360737e+01, ...,\n",
       "         -1.22522136e+01,  -5.71242464e+00,  -4.87479620e-02],\n",
       "       [ -4.93316258e+01,  -2.78625656e+01,   2.98090442e+00, ...,\n",
       "          5.76439676e+00,   2.85527813e+00,  -3.37129505e+00],\n",
       "       [ -3.41766441e+01,  -3.01251736e+01,  -3.75201290e+00, ...,\n",
       "          5.49108056e+00,   1.22484772e+00,   6.97522259e+00],\n",
       "       ..., \n",
       "       [ -6.72313471e+00,   7.59220145e+00,  -7.05658564e+00, ...,\n",
       "         -1.46513246e-01,  -1.11642799e+01,  -5.79850699e-01],\n",
       "       [ -2.59559037e+00,   1.19757812e+01,  -5.85156913e+00, ...,\n",
       "          1.96085741e+00,  -1.52332564e+01,  -1.53614133e+00],\n",
       "       [ -1.22919758e+00,   1.76214405e+01,  -9.58274211e+00, ...,\n",
       "          1.07246148e+00,  -1.35458919e+01,  -1.26902007e+00]])"
      ]
     },
     "execution_count": 37,
     "metadata": {},
     "output_type": "execute_result"
    },
    {
     "name": "stdout",
     "output_type": "stream",
     "text": [
      "11次元の寄与率: [ 0.24506509  0.123622    0.0946918   0.0618826   0.03727502  0.02999567\n",
      "  0.02845417  0.02093787  0.01935414  0.01838325  0.01493383]\n",
      "累積寄与率: 0.6945954398401181\n"
     ]
    },
    {
     "data": {
      "text/plain": [
       "array([[  1.99736466e+01,  -5.60633271e+00,   2.30360737e+01, ...,\n",
       "         -5.71195486e+00,  -4.88668975e-02,   1.29359688e+00],\n",
       "       [ -4.93316258e+01,  -2.78625656e+01,   2.98090442e+00, ...,\n",
       "          2.85517383e+00,  -3.37308096e+00,  -8.18151507e-01],\n",
       "       [ -3.41766441e+01,  -3.01251736e+01,  -3.75201290e+00, ...,\n",
       "          1.22462536e+00,   6.97331377e+00,   1.52508018e+00],\n",
       "       ..., \n",
       "       [ -6.72313471e+00,   7.59220145e+00,  -7.05658565e+00, ...,\n",
       "         -1.11646699e+01,  -5.75901555e-01,  -6.87494997e+00],\n",
       "       [ -2.59559037e+00,   1.19757812e+01,  -5.85156913e+00, ...,\n",
       "         -1.52336221e+01,  -1.53429062e+00,  -9.42344224e+00],\n",
       "       [ -1.22919758e+00,   1.76214405e+01,  -9.58274211e+00, ...,\n",
       "         -1.35463700e+01,  -1.26519795e+00,  -8.87803374e+00]])"
      ]
     },
     "execution_count": 37,
     "metadata": {},
     "output_type": "execute_result"
    },
    {
     "name": "stdout",
     "output_type": "stream",
     "text": [
      "12次元の寄与率: [ 0.24506509  0.123622    0.0946918   0.0618826   0.03727502  0.02999567\n",
      "  0.02845417  0.02093787  0.01935414  0.01838325  0.01493383  0.01390328]\n",
      "累積寄与率: 0.7084987208896611\n"
     ]
    },
    {
     "data": {
      "text/plain": [
       "array([[  1.99736466e+01,  -5.60633271e+00,   2.30360737e+01, ...,\n",
       "         -4.68680940e-02,   1.29068180e+00,   4.72588117e+00],\n",
       "       [ -4.93316258e+01,  -2.78625656e+01,   2.98090442e+00, ...,\n",
       "         -3.36969974e+00,  -8.16437563e-01,  -1.29808857e+00],\n",
       "       [ -3.41766441e+01,  -3.01251736e+01,  -3.75201290e+00, ...,\n",
       "          6.97565190e+00,   1.52543721e+00,  -8.65624475e-01],\n",
       "       ..., \n",
       "       [ -6.72313471e+00,   7.59220145e+00,  -7.05658564e+00, ...,\n",
       "         -5.77648773e-01,  -6.87538746e+00,  -6.02120424e+00],\n",
       "       [ -2.59559037e+00,   1.19757812e+01,  -5.85156913e+00, ...,\n",
       "         -1.53644094e+00,  -9.42335649e+00,  -4.62311864e+00],\n",
       "       [ -1.22919758e+00,   1.76214405e+01,  -9.58274211e+00, ...,\n",
       "         -1.26862196e+00,  -8.87695016e+00,  -2.69681505e+00]])"
      ]
     },
     "execution_count": 37,
     "metadata": {},
     "output_type": "execute_result"
    },
    {
     "name": "stdout",
     "output_type": "stream",
     "text": [
      "13次元の寄与率: [ 0.24506509  0.123622    0.0946918   0.0618826   0.03727502  0.02999567\n",
      "  0.02845417  0.02093787  0.01935414  0.01838325  0.01493383  0.01390328\n",
      "  0.01125897]\n",
      "累積寄与率: 0.7197576880417602\n"
     ]
    },
    {
     "data": {
      "text/plain": [
       "array([[ 19.97364658,  -5.60633271,  23.0360737 , ...,   1.29105841,\n",
       "          4.72477348,  11.96451084],\n",
       "       [-49.33162578, -27.86256558,   2.98090442, ...,  -0.81629551,\n",
       "         -1.3050634 ,  -5.98657126],\n",
       "       [-34.17664412, -30.12517359,  -3.7520129 , ...,   1.52602957,\n",
       "         -0.86775563,  -7.11811078],\n",
       "       ..., \n",
       "       [ -6.72313471,   7.59220145,  -7.05658565, ...,  -6.87444756,\n",
       "         -6.02149493,  -3.47186397],\n",
       "       [ -2.59559037,  11.97578122,  -5.85156913, ...,  -9.42169448,\n",
       "         -4.62709373,  -3.56023055],\n",
       "       [ -1.22919758,  17.62144051,  -9.58274211, ...,  -8.87519524,\n",
       "         -2.70305285,  -0.48600905]])"
      ]
     },
     "execution_count": 37,
     "metadata": {},
     "output_type": "execute_result"
    },
    {
     "name": "stdout",
     "output_type": "stream",
     "text": [
      "14次元の寄与率: [ 0.24506509  0.123622    0.0946918   0.0618826   0.03727502  0.02999567\n",
      "  0.02845417  0.02093787  0.01935414  0.01838325  0.01493383  0.01390328\n",
      "  0.01125894  0.01104704]\n",
      "累積寄与率: 0.7308046927400746\n"
     ]
    },
    {
     "data": {
      "text/plain": [
       "array([[ 19.97364658,  -5.60633271,  23.0360737 , ...,   4.73352612,\n",
       "         11.97230218, -11.13686249],\n",
       "       [-49.33162578, -27.86256558,   2.98090442, ...,  -1.30376465,\n",
       "         -5.97582986,  -0.40190217],\n",
       "       [-34.17664412, -30.12517359,  -3.7520129 , ...,  -0.86841854,\n",
       "         -7.10427751,  -0.97275401],\n",
       "       ..., \n",
       "       [ -6.72313471,   7.59220145,  -7.05658565, ...,  -6.02271988,\n",
       "         -3.4799356 ,  -2.55122725],\n",
       "       [ -2.59559037,  11.97578122,  -5.85156913, ...,  -4.62309279,\n",
       "         -3.57250626,  -0.2356076 ],\n",
       "       [ -1.22919758,  17.62144051,  -9.58274211, ...,  -2.69558372,\n",
       "         -0.50490768,  -0.28714433]])"
      ]
     },
     "execution_count": 37,
     "metadata": {},
     "output_type": "execute_result"
    },
    {
     "name": "stdout",
     "output_type": "stream",
     "text": [
      "15次元の寄与率: [ 0.24506509  0.123622    0.0946918   0.0618826   0.03727502  0.02999567\n",
      "  0.02845417  0.02093787  0.01935414  0.01838325  0.01493383  0.01390328\n",
      "  0.01125896  0.01104708  0.00960474]\n",
      "累積寄与率: 0.7404095066879897\n"
     ]
    },
    {
     "data": {
      "text/plain": [
       "array([[ 19.97364658,  -5.60633271,  23.0360737 , ...,  11.97306436,\n",
       "        -11.13461738,   6.98042761],\n",
       "       [-49.33162578, -27.86256558,   2.98090442, ...,  -5.98396324,\n",
       "         -0.39670442,  -3.57043071],\n",
       "       [-34.17664412, -30.12517359,  -3.7520129 , ...,  -7.11131545,\n",
       "         -0.96896461,  -3.45750863],\n",
       "       ..., \n",
       "       [ -6.72313471,   7.59220145,  -7.05658565, ...,  -3.47399022,\n",
       "         -2.55005952,   0.96482982],\n",
       "       [ -2.59559037,  11.97578122,  -5.85156914, ...,  -3.56630398,\n",
       "         -0.23715902,  -2.03061626],\n",
       "       [ -1.22919758,  17.62144051,  -9.58274211, ...,  -0.49479828,\n",
       "         -0.2986773 ,  -6.02123115]])"
      ]
     },
     "execution_count": 37,
     "metadata": {},
     "output_type": "execute_result"
    },
    {
     "name": "stdout",
     "output_type": "stream",
     "text": [
      "16次元の寄与率: [ 0.24506509  0.123622    0.0946918   0.0618826   0.03727502  0.02999567\n",
      "  0.02845417  0.02093787  0.01935414  0.01838325  0.01493383  0.01390328\n",
      "  0.01125897  0.01104707  0.00960468  0.00900665]\n",
      "累積寄与率: 0.749416088031318\n"
     ]
    },
    {
     "data": {
      "text/plain": [
       "array([[ 19.97364658,  -5.60633271,  23.0360737 , ..., -11.12965236,\n",
       "          7.00667266,  -2.61812656],\n",
       "       [-49.33162578, -27.86256558,   2.98090442, ...,  -0.3994575 ,\n",
       "         -3.57525508,  -0.43225554],\n",
       "       [-34.17664412, -30.12517359,  -3.7520129 , ...,  -0.97118089,\n",
       "         -3.45732585,   0.90533218],\n",
       "       ..., \n",
       "       [ -6.72313471,   7.59220145,  -7.05658565, ...,  -2.54831988,\n",
       "          0.95563149,   2.06959817],\n",
       "       [ -2.59559037,  11.97578122,  -5.85156913, ...,  -0.23283419,\n",
       "         -2.03193301,   2.87488421],\n",
       "       [ -1.22919758,  17.62144051,  -9.58274211, ...,  -0.28786353,\n",
       "         -6.02928727,   3.87492846]])"
      ]
     },
     "execution_count": 37,
     "metadata": {},
     "output_type": "execute_result"
    },
    {
     "name": "stdout",
     "output_type": "stream",
     "text": [
      "17次元の寄与率: [ 0.24506509  0.123622    0.0946918   0.0618826   0.03727502  0.02999567\n",
      "  0.02845417  0.02093787  0.01935414  0.01838325  0.01493383  0.01390328\n",
      "  0.01125897  0.01104708  0.00960475  0.00900665  0.00849246]\n",
      "累積寄与率: 0.7579086277266581\n"
     ]
    },
    {
     "data": {
      "text/plain": [
       "array([[ 19.97364658,  -5.60633271,  23.0360737 , ...,   7.00267171,\n",
       "         -2.64707216,  -0.45533981],\n",
       "       [-49.33162578, -27.86256558,   2.98090442, ...,  -3.57495283,\n",
       "         -0.41934001,   1.29049914],\n",
       "       [-34.17664412, -30.12517359,  -3.7520129 , ...,  -3.4584051 ,\n",
       "          0.90225558,   0.15569946],\n",
       "       ..., \n",
       "       [ -6.72313471,   7.59220145,  -7.05658565, ...,   0.96353193,\n",
       "          2.06875996,   2.31093855],\n",
       "       [ -2.59559037,  11.97578122,  -5.85156913, ...,  -2.03025289,\n",
       "          2.87708317,   3.53576291],\n",
       "       [ -1.22919758,  17.62144051,  -9.58274211, ...,  -6.02796498,\n",
       "          3.89149674,   1.16128056]])"
      ]
     },
     "execution_count": 37,
     "metadata": {},
     "output_type": "execute_result"
    },
    {
     "name": "stdout",
     "output_type": "stream",
     "text": [
      "18次元の寄与率: [ 0.24506509  0.123622    0.0946918   0.0618826   0.03727502  0.02999567\n",
      "  0.02845417  0.02093787  0.01935414  0.01838325  0.01493383  0.01390328\n",
      "  0.01125897  0.01104708  0.00960474  0.00900664  0.00849247  0.00761199]\n",
      "累積寄与率: 0.7655206104608806\n"
     ]
    },
    {
     "data": {
      "text/plain": [
       "array([[ 19.97364658,  -5.60633271,  23.0360737 , ...,  -2.62056697,\n",
       "         -0.54176811,  -1.25651944],\n",
       "       [-49.33162578, -27.86256558,   2.98090442, ...,  -0.4147927 ,\n",
       "          1.3473835 ,   0.69786453],\n",
       "       [-34.17664412, -30.12517359,  -3.7520129 , ...,   0.91149844,\n",
       "          0.24675328,  -0.23734664],\n",
       "       ..., \n",
       "       [ -6.72313471,   7.59220145,  -7.05658565, ...,   2.06555514,\n",
       "          2.25026795,  -2.52794243],\n",
       "       [ -2.59559037,  11.97578122,  -5.85156913, ...,   2.8747641 ,\n",
       "          3.5241892 ,  -0.65068687],\n",
       "       [ -1.22919758,  17.62144051,  -9.58274211, ...,   3.87869165,\n",
       "          1.09489554,   0.41518354]])"
      ]
     },
     "execution_count": 37,
     "metadata": {},
     "output_type": "execute_result"
    },
    {
     "name": "stdout",
     "output_type": "stream",
     "text": [
      "19次元の寄与率: [ 0.24506509  0.123622    0.0946918   0.0618826   0.03727502  0.02999567\n",
      "  0.02845417  0.02093787  0.01935414  0.01838325  0.01493383  0.01390328\n",
      "  0.01125897  0.01104708  0.00960474  0.00900663  0.0084925   0.00761264\n",
      "  0.00730412]\n",
      "累積寄与率: 0.7728254019225003\n"
     ]
    },
    {
     "data": {
      "text/plain": [
       "array([[ 19.97364658,  -5.60633271,  23.0360737 , ...,  -0.55721221,\n",
       "         -1.26228141,  -4.37856903],\n",
       "       [-49.33162578, -27.86256558,   2.98090442, ...,   1.34263869,\n",
       "          0.68959382,  -0.09737153],\n",
       "       [-34.17664412, -30.12517359,  -3.7520129 , ...,   0.24239336,\n",
       "         -0.25585604,   0.17466426],\n",
       "       ..., \n",
       "       [ -6.72313471,   7.59220145,  -7.05658565, ...,   2.25213693,\n",
       "         -2.5224817 ,   2.30460655],\n",
       "       [ -2.59559037,  11.97578122,  -5.85156913, ...,   3.52611129,\n",
       "         -0.65835284,   1.68791198],\n",
       "       [ -1.22919758,  17.62144051,  -9.58274211, ...,   1.0958288 ,\n",
       "          0.43315281,   0.36432803]])"
      ]
     },
     "execution_count": 37,
     "metadata": {},
     "output_type": "execute_result"
    },
    {
     "name": "stdout",
     "output_type": "stream",
     "text": [
      "20次元の寄与率: [ 0.24506509  0.123622    0.0946918   0.0618826   0.03727502  0.02999567\n",
      "  0.02845417  0.02093787  0.01935414  0.01838325  0.01493383  0.01390328\n",
      "  0.01125897  0.01104708  0.00960475  0.00900665  0.00849251  0.00761263\n",
      "  0.00730411  0.00611084]\n",
      "累積寄与率: 0.7789362671344527\n"
     ]
    },
    {
     "data": {
      "text/plain": [
       "array([[  1.99736466e+01,  -5.60633271e+00,   2.30360737e+01, ...,\n",
       "         -1.20423039e+00,  -4.34677998e+00,   5.04721055e-01],\n",
       "       [ -4.93316258e+01,  -2.78625656e+01,   2.98090442e+00, ...,\n",
       "          6.74664852e-01,  -1.20458717e-01,  -2.64171883e+00],\n",
       "       [ -3.41766441e+01,  -3.01251736e+01,  -3.75201290e+00, ...,\n",
       "         -2.51978400e-01,   1.87327758e-01,   9.53853851e-03],\n",
       "       ..., \n",
       "       [ -6.72313471e+00,   7.59220145e+00,  -7.05658565e+00, ...,\n",
       "         -2.51729065e+00,   2.32158658e+00,  -4.00721879e+00],\n",
       "       [ -2.59559037e+00,   1.19757812e+01,  -5.85156913e+00, ...,\n",
       "         -6.46455221e-01,   1.69564613e+00,   4.82015176e-01],\n",
       "       [ -1.22919758e+00,   1.76214405e+01,  -9.58274211e+00, ...,\n",
       "          4.25937939e-01,   3.36061872e-01,  -5.29574800e-01]])"
      ]
     },
     "execution_count": 37,
     "metadata": {},
     "output_type": "execute_result"
    },
    {
     "name": "stdout",
     "output_type": "stream",
     "text": [
      "21次元の寄与率: [ 0.24506509  0.123622    0.0946918   0.0618826   0.03727502  0.02999567\n",
      "  0.02845417  0.02093787  0.01935414  0.01838325  0.01493383  0.01390328\n",
      "  0.01125897  0.01104708  0.00960475  0.00900665  0.00849251  0.00761263\n",
      "  0.00730417  0.00611099  0.00547203]\n",
      "累積寄与率: 0.784408512112453\n"
     ]
    },
    {
     "data": {
      "text/plain": [
       "array([[  1.99736466e+01,  -5.60633271e+00,   2.30360737e+01, ...,\n",
       "         -4.48832901e+00,   5.03625974e-01,   8.93403738e-01],\n",
       "       [ -4.93316258e+01,  -2.78625656e+01,   2.98090442e+00, ...,\n",
       "         -1.04832637e-01,  -2.52962462e+00,   1.28596091e+00],\n",
       "       [ -3.41766441e+01,  -3.01251736e+01,  -3.75201290e+00, ...,\n",
       "          1.08378596e-01,   4.33415871e-03,   8.30419175e-01],\n",
       "       ..., \n",
       "       [ -6.72313471e+00,   7.59220145e+00,  -7.05658565e+00, ...,\n",
       "          2.30701721e+00,  -4.11558124e+00,  -1.90189645e+00],\n",
       "       [ -2.59559037e+00,   1.19757812e+01,  -5.85156913e+00, ...,\n",
       "          1.70483620e+00,   4.07304822e-01,  -1.04776642e+00],\n",
       "       [ -1.22919758e+00,   1.76214405e+01,  -9.58274211e+00, ...,\n",
       "          3.88825224e-01,  -6.28612255e-01,  -2.64062737e+00]])"
      ]
     },
     "execution_count": 37,
     "metadata": {},
     "output_type": "execute_result"
    },
    {
     "name": "stdout",
     "output_type": "stream",
     "text": [
      "22次元の寄与率: [ 0.24506509  0.123622    0.0946918   0.0618826   0.03727502  0.02999567\n",
      "  0.02845417  0.02093787  0.01935414  0.01838325  0.01493383  0.01390328\n",
      "  0.01125897  0.01104708  0.00960475  0.00900665  0.0084925   0.00761262\n",
      "  0.00730417  0.00610964  0.00547236  0.00543046]\n",
      "累積寄与率: 0.7898379222560529\n"
     ]
    },
    {
     "data": {
      "text/plain": [
       "array([[ 19.97364658,  -5.60633271,  23.0360737 , ...,   0.45829083,\n",
       "          0.60027001,   2.16473621],\n",
       "       [-49.33162578, -27.86256558,   2.98090442, ...,  -2.51389858,\n",
       "          1.35595205,  -3.44931664],\n",
       "       [-34.17664412, -30.12517359,  -3.7520129 , ...,   0.0720871 ,\n",
       "          0.79015372,  -2.17942013],\n",
       "       ..., \n",
       "       [ -6.72313471,   7.59220145,  -7.05658565, ...,  -4.08851728,\n",
       "         -2.00154566,  -3.70839092],\n",
       "       [ -2.59559037,  11.97578122,  -5.85156913, ...,   0.44324773,\n",
       "         -1.0351059 ,  -1.53158908],\n",
       "       [ -1.22919758,  17.62144051,  -9.58274211, ...,  -0.58648676,\n",
       "         -2.60123682,  -1.70789577]])"
      ]
     },
     "execution_count": 37,
     "metadata": {},
     "output_type": "execute_result"
    },
    {
     "name": "stdout",
     "output_type": "stream",
     "text": [
      "23次元の寄与率: [ 0.24506509  0.123622    0.0946918   0.0618826   0.03727502  0.02999567\n",
      "  0.02845417  0.02093787  0.01935414  0.01838325  0.01493383  0.01390328\n",
      "  0.01125897  0.01104708  0.00960475  0.00900665  0.00849251  0.00761263\n",
      "  0.0073042   0.0061104   0.00547269  0.00543224  0.0050869 ]\n",
      "累積寄与率: 0.7949277446109007\n"
     ]
    },
    {
     "data": {
      "text/plain": [
       "array([[ 19.97364658,  -5.60633271,  23.0360737 , ...,   0.59953682,\n",
       "          2.60150946,  -1.70471003],\n",
       "       [-49.33162578, -27.86256558,   2.98090442, ...,   1.2977832 ,\n",
       "         -3.74251852,  -2.55841002],\n",
       "       [-34.17664412, -30.12517359,  -3.7520129 , ...,   0.77489181,\n",
       "         -2.40890003,  -2.37367897],\n",
       "       ..., \n",
       "       [ -6.72313471,   7.59220145,  -7.05658565, ...,  -1.98800803,\n",
       "         -3.71284764,   0.48990092],\n",
       "       [ -2.59559037,  11.97578122,  -5.85156913, ...,  -1.02797978,\n",
       "         -1.56267907,   2.11590121],\n",
       "       [ -1.22919758,  17.62144051,  -9.58274211, ...,  -2.57697513,\n",
       "         -1.72237202,   3.64603035]])"
      ]
     },
     "execution_count": 37,
     "metadata": {},
     "output_type": "execute_result"
    },
    {
     "name": "stdout",
     "output_type": "stream",
     "text": [
      "24次元の寄与率: [ 0.24506509  0.123622    0.0946918   0.0618826   0.03727502  0.02999567\n",
      "  0.02845417  0.02093787  0.01935414  0.01838325  0.01493383  0.01390328\n",
      "  0.01125897  0.01104708  0.00960475  0.00900665  0.00849251  0.00761263\n",
      "  0.0073042   0.00611108  0.0054727   0.00543229  0.00508936  0.00470364]\n",
      "累積寄与率: 0.7996345861285087\n"
     ]
    },
    {
     "data": {
      "text/plain": [
       "array([[ 19.97364658,  -5.60633271,  23.0360737 , ...,   2.69330058,\n",
       "         -1.87631035,   3.80485519],\n",
       "       [-49.33162578, -27.86256558,   2.98090442, ...,  -3.7612022 ,\n",
       "         -2.46361656,  -3.33545011],\n",
       "       [-34.17664412, -30.12517359,  -3.7520129 , ...,  -2.43031676,\n",
       "         -2.32725452,  -1.33920485],\n",
       "       ..., \n",
       "       [ -6.72313471,   7.59220145,  -7.05658565, ...,  -3.78973428,\n",
       "          0.5022701 ,   1.21643699],\n",
       "       [ -2.59559037,  11.97578122,  -5.85156913, ...,  -1.61860467,\n",
       "          1.94867126,  -1.03389298],\n",
       "       [ -1.22919758,  17.62144051,  -9.58274211, ...,  -1.78082473,\n",
       "          3.52619384,  -1.24699039]])"
      ]
     },
     "execution_count": 37,
     "metadata": {},
     "output_type": "execute_result"
    },
    {
     "name": "stdout",
     "output_type": "stream",
     "text": [
      "25次元の寄与率: [ 0.24506509  0.123622    0.0946918   0.0618826   0.03727502  0.02999567\n",
      "  0.02845417  0.02093787  0.01935414  0.01838325  0.01493383  0.01390328\n",
      "  0.01125897  0.01104708  0.00960475  0.00900665  0.00849251  0.00761264\n",
      "  0.0073042   0.00611109  0.00547273  0.00543233  0.00508896  0.00470794\n",
      "  0.00457064]\n",
      "累積寄与率: 0.8042092160913188\n",
      "pca_dim : ['PCA1', 'PCA2', 'PCA3', 'PCA4', 'PCA5', 'PCA6', 'PCA7', 'PCA8', 'PCA9', 'PCA10', 'PCA11', 'PCA12', 'PCA13', 'PCA14', 'PCA15', 'PCA16', 'PCA17', 'PCA18', 'PCA19', 'PCA20', 'PCA21', 'PCA22', 'PCA23', 'PCA24', 'PCA25']\n",
      "pca_ratio : [0.24506509277360439, 0.36868709161971702, 0.46337889008166139, 0.52526148819339069, 0.56253650655512599, 0.59253218075265013, 0.62098634820691978, 0.64192422066278576, 0.66127835568330029, 0.6796616084783117, 0.69459543984011807, 0.70849872088966115, 0.71975768804176021, 0.73080469274007465, 0.74040950668798966, 0.74941608803131798, 0.75790862772665812, 0.7655206104608806, 0.77282540192250027, 0.77893626713445274, 0.78440851211245299, 0.78983792225605287, 0.79492774461090066, 0.79963458612850868, 0.80420921609131879]\n"
     ]
    }
   ],
   "source": [
    "# 25次元が80%\n",
    "pca_dim = []\n",
    "pca_ratio = []\n",
    "for i in range(25):\n",
    "    pca = PCA(n_components=i+1)\n",
    "    pca.fit_transform(train)\n",
    "    print('{0}次元の寄与率: {1}'.format(i+1, pca.explained_variance_ratio_))\n",
    "    print('累積寄与率: {0}'.format(sum(pca.explained_variance_ratio_)))\n",
    "    pca_ratio.append(sum(pca.explained_variance_ratio_))\n",
    "    name = 'PCA' + str(i+1)\n",
    "    pca_dim.append(name)\n",
    "print('pca_dim : {0}'.format(pca_dim))\n",
    "print('pca_ratio : {0}'.format(pca_ratio))"
   ]
  },
  {
   "cell_type": "markdown",
   "metadata": {},
   "source": [
    "## スクリープロット"
   ]
  },
  {
   "cell_type": "code",
   "execution_count": 42,
   "metadata": {
    "collapsed": false
   },
   "outputs": [
    {
     "data": {
      "text/plain": [
       "<matplotlib.axes._subplots.AxesSubplot at 0x118fc3a20>"
      ]
     },
     "execution_count": 42,
     "metadata": {},
     "output_type": "execute_result"
    },
    {
     "data": {
      "image/png": "[encoded data removed]",
      "text/plain": [
       "<matplotlib.figure.Figure at 0x11848b940>"
      ]
     },
     "metadata": {},
     "output_type": "display_data"
    }
   ],
   "source": [
    "# https://cmdlinetips.com/2018/03/pca-example-in-python-with-scikit-learn/\n",
    "screeplot = pd.DataFrame({'dimention': pca_dim, 'Cumulative contribution rate': pca_ratio})\n",
    "sns.barplot(x='dimention', y='Cumulative contribution rate', data = screeplot)"
   ]
  },
  {
   "cell_type": "markdown",
   "metadata": {},
   "source": [
    "## カイゼル基準"
   ]
  },
  {
   "cell_type": "code",
   "execution_count": null,
   "metadata": {
    "collapsed": true
   },
   "outputs": [],
   "source": []
  },
  {
   "cell_type": "code",
   "execution_count": null,
   "metadata": {
    "collapsed": false
   },
   "outputs": [],
   "source": [
    "sns.pairplot(df, hue= '1次元')"
   ]
  },
  {
   "cell_type": "markdown",
   "metadata": {
    "collapsed": true
   },
   "source": [
    "## NMF"
   ]
  },
  {
   "cell_type": "code",
   "execution_count": null,
   "metadata": {
    "collapsed": false
   },
   "outputs": [],
   "source": [
    "from sklearn.decomposition import NMF"
   ]
  },
  {
   "cell_type": "code",
   "execution_count": null,
   "metadata": {
    "collapsed": true
   },
   "outputs": [],
   "source": [
    "nmf = NMF(n_components=2)"
   ]
  },
  {
   "cell_type": "code",
   "execution_count": null,
   "metadata": {
    "collapsed": true
   },
   "outputs": [],
   "source": [
    "merck_nmf = nmf.fit_transform(train)"
   ]
  },
  {
   "cell_type": "code",
   "execution_count": null,
   "metadata": {
    "collapsed": false
   },
   "outputs": [],
   "source": [
    "plt.figure(figsize=(16,16))\n",
    "sns.jointplot(x = merck_nmf[:,0], y = merck_nmf[:,1]) "
   ]
  },
  {
   "cell_type": "markdown",
   "metadata": {
    "collapsed": true
   },
   "source": [
    "## kernel PCA"
   ]
  },
  {
   "cell_type": "code",
   "execution_count": null,
   "metadata": {
    "collapsed": false
   },
   "outputs": [],
   "source": [
    "from sklearn.decomposition import KernelPCA"
   ]
  },
  {
   "cell_type": "code",
   "execution_count": null,
   "metadata": {
    "collapsed": true
   },
   "outputs": [],
   "source": [
    "kernel_pca = KernelPCA(n_components=2, kernel='rbf', gamma=10)"
   ]
  },
  {
   "cell_type": "code",
   "execution_count": null,
   "metadata": {
    "collapsed": true
   },
   "outputs": [],
   "source": [
    "merck_kernel_pca = kernel_pca.fit_transform(train)"
   ]
  },
  {
   "cell_type": "code",
   "execution_count": null,
   "metadata": {
    "collapsed": false
   },
   "outputs": [],
   "source": [
    "plt.figure(figsize=(16,16))\n",
    "sns.jointplot(x = merck_kernel_pca[:,0], y = merck_kernel_pca[:,1]) "
   ]
  },
  {
   "cell_type": "markdown",
   "metadata": {
    "collapsed": true
   },
   "source": [
    "## Isomap"
   ]
  },
  {
   "cell_type": "code",
   "execution_count": null,
   "metadata": {
    "collapsed": false
   },
   "outputs": [],
   "source": [
    "from sklearn.manifold import Isomap"
   ]
  },
  {
   "cell_type": "code",
   "execution_count": null,
   "metadata": {
    "collapsed": false
   },
   "outputs": [],
   "source": [
    "isomap = Isomap(n_neighbors=8, n_components=2)"
   ]
  },
  {
   "cell_type": "code",
   "execution_count": null,
   "metadata": {
    "collapsed": false
   },
   "outputs": [],
   "source": [
    "merck_isomap = isomap.fit_transform(train)"
   ]
  },
  {
   "cell_type": "code",
   "execution_count": null,
   "metadata": {
    "collapsed": false
   },
   "outputs": [],
   "source": [
    "plt.figure(figsize=(16,16))\n",
    "sns.jointplot(x = merck_isomap[:,0], y = merck_isomap[:,1]) "
   ]
  },
  {
   "cell_type": "markdown",
   "metadata": {},
   "source": [
    "## Random Projection"
   ]
  },
  {
   "cell_type": "markdown",
   "metadata": {},
   "source": [
    "M次元のデータをマッピング可能なN次元へと写像する行列Rの要素を乱数で設定する"
   ]
  },
  {
   "cell_type": "code",
   "execution_count": null,
   "metadata": {
    "collapsed": true
   },
   "outputs": [],
   "source": [
    "rp = random_projection.SparseRandomProjection(n_components=2, random_state=42)"
   ]
  },
  {
   "cell_type": "code",
   "execution_count": null,
   "metadata": {
    "collapsed": true
   },
   "outputs": [],
   "source": [
    "merck_rp = rp.fit_transform(train)"
   ]
  },
  {
   "cell_type": "code",
   "execution_count": null,
   "metadata": {
    "collapsed": false
   },
   "outputs": [],
   "source": [
    "plt.figure(figsize=(16,16))\n",
    "sns.jointplot(x = merck_rp[:,0], y = merck_rp[:,1])"
   ]
  },
  {
   "cell_type": "markdown",
   "metadata": {},
   "source": [
    "## SVD 特異値分解(データ正規化)"
   ]
  },
  {
   "cell_type": "code",
   "execution_count": null,
   "metadata": {
    "collapsed": true
   },
   "outputs": [],
   "source": [
    "svd = decomposition.TruncatedSVD(n_components=2)"
   ]
  },
  {
   "cell_type": "code",
   "execution_count": null,
   "metadata": {
    "collapsed": true
   },
   "outputs": [],
   "source": [
    "merck_svd = svd.fit_transform(train)"
   ]
  },
  {
   "cell_type": "code",
   "execution_count": null,
   "metadata": {
    "collapsed": false
   },
   "outputs": [],
   "source": [
    "plt.figure(figsize=(16,16))\n",
    "sns.jointplot(x = merck_svd[:,0], y = merck_svd[:,1])"
   ]
  },
  {
   "cell_type": "markdown",
   "metadata": {},
   "source": [
    "## t-SNE"
   ]
  },
  {
   "cell_type": "code",
   "execution_count": null,
   "metadata": {
    "collapsed": true
   },
   "outputs": [],
   "source": [
    "from sklearn.manifold import TSNE"
   ]
  },
  {
   "cell_type": "code",
   "execution_count": null,
   "metadata": {
    "collapsed": true
   },
   "outputs": [],
   "source": [
    "tsne = TSNE(n_components=2, random_state=42)"
   ]
  },
  {
   "cell_type": "code",
   "execution_count": null,
   "metadata": {
    "collapsed": false
   },
   "outputs": [],
   "source": [
    "merck_tsne = tsne.fit_transform(train)"
   ]
  },
  {
   "cell_type": "code",
   "execution_count": null,
   "metadata": {
    "collapsed": false,
    "scrolled": true
   },
   "outputs": [],
   "source": [
    "plt.figure(figsize=(16,16))\n",
    "sns.jointplot(x = merck_tsne[:,0], y = merck_tsne[:,1])"
   ]
  },
  {
   "cell_type": "code",
   "execution_count": null,
   "metadata": {
    "collapsed": false
   },
   "outputs": [],
   "source": [
    "train.shape"
   ]
  },
  {
   "cell_type": "code",
   "execution_count": null,
   "metadata": {
    "collapsed": false
   },
   "outputs": [],
   "source": [
    "# 5790特徴量"
   ]
  },
  {
   "cell_type": "code",
   "execution_count": null,
   "metadata": {
    "collapsed": true
   },
   "outputs": [],
   "source": []
  },
  {
   "cell_type": "code",
   "execution_count": null,
   "metadata": {
    "collapsed": true
   },
   "outputs": [],
   "source": []
  }
 ],
 "metadata": {
  "kernelspec": {
   "display_name": "Python 3",
   "language": "python",
   "name": "python3"
  },
  "language_info": {
   "codemirror_mode": {
    "name": "ipython",
    "version": 3
   },
   "file_extension": ".py",
   "mimetype": "text/x-python",
   "name": "python",
   "nbconvert_exporter": "python",
   "pygments_lexer": "ipython3",
   "version": "3.6.0"
  }
 },
 "nbformat": 4,
 "nbformat_minor": 2
}
