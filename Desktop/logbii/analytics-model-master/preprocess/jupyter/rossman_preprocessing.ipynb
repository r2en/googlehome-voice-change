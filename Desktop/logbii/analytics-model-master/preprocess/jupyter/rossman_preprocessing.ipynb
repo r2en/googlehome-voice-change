{
 "cells": [
  {
   "cell_type": "code",
   "execution_count": 4,
   "metadata": {
    "collapsed": true
   },
   "outputs": [],
   "source": [
    "import numpy as np\n",
    "import pandas as pd\n",
    "import matplotlib.pyplot as plt\n",
    "import seaborn as sns\n",
    "%matplotlib inline\n",
    "from IPython.core.interactiveshell import InteractiveShell\n",
    "InteractiveShell.ast_node_interactivity = 'all'"
   ]
  },
  {
   "cell_type": "code",
   "execution_count": 7,
   "metadata": {
    "collapsed": true
   },
   "outputs": [],
   "source": [
    "rossmann_train_path = './kaggle-data/rossmann/train.csv'\n",
    "rossmann_test_path = './kaggle-data/rossmann/test.csv'\n",
    "rossmann_store_path = './kaggle-data/rossmann/store.csv'"
   ]
  },
  {
   "cell_type": "code",
   "execution_count": 8,
   "metadata": {
    "collapsed": false
   },
   "outputs": [],
   "source": [
    "train = pd.read_csv(rossmann_train_path, sep=',', parse_dates=['Date'],\n",
    "                    dtype={'StateHoliday': str, 'SchoolHoliday':str})\n",
    "\n",
    "test = pd.read_csv(rossmann_test_path, sep=\",\", index_col = 'Id', parse_dates=['Date'],\n",
    "                  dtype={'StateHoliday': str, 'SchoolHoliday':str})\n",
    "\n",
    "store = pd.read_csv(rossmann_store_path, sep=\",\", dtype={'StoreType': str,\n",
    "                                                      'Assortment': str,\n",
    "                                                      'PromoInterval': str})"
   ]
  },
  {
   "cell_type": "code",
   "execution_count": 16,
   "metadata": {
    "collapsed": true
   },
   "outputs": [],
   "source": [
    "train['Year'] = pd.DatetimeIndex(train['Date']).year\n",
    "train['Month'] = pd.DatetimeIndex(train['Date']).month"
   ]
  },
  {
   "cell_type": "code",
   "execution_count": 17,
   "metadata": {
    "collapsed": true
   },
   "outputs": [],
   "source": [
    "train = train[['Store', 'DayOfWeek', 'Date', 'Year', 'Month', 'Customers', 'Open',\n",
    "               'Promo', 'StateHoliday', 'SchoolHoliday', 'Sales']]"
   ]
  },
  {
   "cell_type": "code",
   "execution_count": 18,
   "metadata": {
    "collapsed": true
   },
   "outputs": [],
   "source": [
    "train.loc[train['StateHoliday'] == '0', 'StateHoliday'] = 0\n",
    "train.loc[train['StateHoliday'] == 'a', 'StateHoliday'] = 1\n",
    "train.loc[train['StateHoliday'] == 'b', 'StateHoliday'] = 2\n",
    "train.loc[train['StateHoliday'] == 'c', 'StateHoliday'] = 3\n",
    "train['StateHoliday'] = train['StateHoliday'].astype(int, copy=False)"
   ]
  },
  {
   "cell_type": "code",
   "execution_count": 19,
   "metadata": {
    "collapsed": true
   },
   "outputs": [],
   "source": [
    "def factor_to_integer(df, colname, start_value=0):\n",
    "    while df[colname].dtype == object:\n",
    "        myval = start_value # factor starts at \"start_value\".\n",
    "        for sval in df[colname].unique():\n",
    "            df.loc[df[colname] == sval, colname] = myval\n",
    "            myval += 1\n",
    "        df[colname] = df[colname].astype(int, copy=False)\n",
    "    print('levels :', df[colname].unique(), '; data type :', df[colname].dtype)"
   ]
  },
  {
   "cell_type": "code",
   "execution_count": 21,
   "metadata": {
    "collapsed": false
   },
   "outputs": [
    {
     "name": "stdout",
     "output_type": "stream",
     "text": [
      "levels : [0 1] ; data type : int64\n"
     ]
    }
   ],
   "source": [
    "factor_to_integer(train, 'SchoolHoliday')"
   ]
  },
  {
   "cell_type": "code",
   "execution_count": 22,
   "metadata": {
    "collapsed": true
   },
   "outputs": [],
   "source": [
    "train = train[['Store', 'DayOfWeek', 'Date', 'Year', 'Month', 'Customers', 'Open',\n",
    "               'Promo', 'StateHoliday', 'SchoolHoliday', 'Sales']]"
   ]
  },
  {
   "cell_type": "code",
   "execution_count": 23,
   "metadata": {
    "collapsed": true
   },
   "outputs": [],
   "source": [
    "test['Year'] = pd.DatetimeIndex(test['Date']).year\n",
    "test['Month'] = pd.DatetimeIndex(test['Date']).month"
   ]
  },
  {
   "cell_type": "code",
   "execution_count": 24,
   "metadata": {
    "collapsed": true
   },
   "outputs": [],
   "source": [
    "test = test[['Store', 'DayOfWeek', 'Date', 'Year', 'Month', 'Open',\n",
    "             'Promo', 'StateHoliday', 'SchoolHoliday']]"
   ]
  },
  {
   "cell_type": "code",
   "execution_count": 25,
   "metadata": {
    "collapsed": false
   },
   "outputs": [
    {
     "name": "stdout",
     "output_type": "stream",
     "text": [
      "levels : [0 1] ; data type : int64\n",
      "levels : [0 1] ; data type : int64\n"
     ]
    }
   ],
   "source": [
    "factor_to_integer(test, 'StateHoliday')\n",
    "factor_to_integer(test, 'SchoolHoliday')"
   ]
  },
  {
   "cell_type": "code",
   "execution_count": 26,
   "metadata": {
    "collapsed": true
   },
   "outputs": [],
   "source": [
    "train = train.ix[train['StateHoliday'] < 2]"
   ]
  },
  {
   "cell_type": "code",
   "execution_count": 27,
   "metadata": {
    "collapsed": false
   },
   "outputs": [
    {
     "name": "stdout",
     "output_type": "stream",
     "text": [
      "levels : [0 1 2 3] ; data type : int64\n"
     ]
    }
   ],
   "source": [
    "store.ix[store['Promo2'] == 0, ['Promo2SinceWeek', 'Promo2SinceYear', 'PromoInterval']] = 0\n",
    "store.ix[store['Promo2'] != 0, 'Promo2SinceWeek'] = store['Promo2SinceWeek'].max() - store.ix[store['Promo2'] != 0, 'Promo2SinceWeek']\n",
    "store.ix[store['Promo2'] != 0, 'Promo2SinceYear'] = store['Promo2SinceYear'].max() - store.ix[store['Promo2'] != 0, 'Promo2SinceYear']\n",
    "factor_to_integer(store, 'PromoInterval', start_value=0)"
   ]
  },
  {
   "cell_type": "code",
   "execution_count": 28,
   "metadata": {
    "collapsed": false
   },
   "outputs": [
    {
     "name": "stdout",
     "output_type": "stream",
     "text": [
      "levels : [0 1 2 3] ; data type : int64\n",
      "levels : [0 1 2] ; data type : int64\n"
     ]
    }
   ],
   "source": [
    "factor_to_integer(store, 'StoreType')\n",
    "factor_to_integer(store, 'Assortment')"
   ]
  },
  {
   "cell_type": "code",
   "execution_count": 29,
   "metadata": {
    "collapsed": true
   },
   "outputs": [],
   "source": [
    "from sklearn.preprocessing import Imputer\n",
    "imputer = Imputer().fit(store)\n",
    "store_imputed = imputer.transform(store)"
   ]
  },
  {
   "cell_type": "code",
   "execution_count": 31,
   "metadata": {
    "collapsed": true
   },
   "outputs": [],
   "source": [
    "store2 = pd.DataFrame(store_imputed, columns=store.columns.values)"
   ]
  },
  {
   "cell_type": "code",
   "execution_count": 32,
   "metadata": {
    "collapsed": true
   },
   "outputs": [],
   "source": [
    "store2['CompetitionOpenSinceMonth'] = store2['CompetitionOpenSinceMonth'].max() - store2['CompetitionOpenSinceMonth']\n",
    "store2['CompetitionOpenSinceYear'] = store2['CompetitionOpenSinceYear'].max() - store2['CompetitionOpenSinceYear']"
   ]
  },
  {
   "cell_type": "code",
   "execution_count": 33,
   "metadata": {
    "collapsed": true
   },
   "outputs": [],
   "source": [
    "train_store = pd.merge(train, store2, how = 'left', on='Store')"
   ]
  },
  {
   "cell_type": "code",
   "execution_count": 34,
   "metadata": {
    "collapsed": true
   },
   "outputs": [],
   "source": [
    "test_store = test.reset_index().merge(store2, how = 'left', on='Store').set_index('Id')"
   ]
  },
  {
   "cell_type": "code",
   "execution_count": 35,
   "metadata": {
    "collapsed": true
   },
   "outputs": [],
   "source": [
    "train_model = train_store.drop(['Customers', 'Date'], axis=1)\n",
    "train_model['Year'] = train_model['Year'].max() - train_model['Year']"
   ]
  },
  {
   "cell_type": "code",
   "execution_count": 36,
   "metadata": {
    "collapsed": true
   },
   "outputs": [],
   "source": [
    "test_model = test_store.drop(['Date'], axis=1)\n",
    "test_model['Year'] = test_model['Year'].max() - test_model['Year']"
   ]
  },
  {
   "cell_type": "code",
   "execution_count": 43,
   "metadata": {
    "collapsed": true
   },
   "outputs": [],
   "source": [
    "test_model_open = test_model.ix[test_model['Open'] == 1]\n",
    "test_model_open = test_model_open.drop('Open', axis=1)\n",
    "\n",
    "test_model_open = test_model.ix[test_model['Open'] == 0]"
   ]
  },
  {
   "cell_type": "code",
   "execution_count": 44,
   "metadata": {
    "collapsed": true
   },
   "outputs": [],
   "source": [
    "SalesDF = train_model['Sales']\n",
    "train_model = train_model.drop(['Sales'], axis=1)\n",
    "train_model['Sales'] = SalesDF"
   ]
  },
  {
   "cell_type": "code",
   "execution_count": 45,
   "metadata": {
    "collapsed": true
   },
   "outputs": [],
   "source": [
    "summary = train_model.describe()\n",
    "train_normalized = train_model.copy()\n",
    "ncols = len(train_normalized.columns)\n",
    "\n",
    "for i in range(ncols):\n",
    "    mean = summary.iloc[1, i]\n",
    "    sd = summary.iloc[2, i]\n",
    "    train_normalized.iloc[:,i:(i + 1)] = \\\n",
    "        (train_normalized.iloc[:,i:(i + 1)] - mean) / sd"
   ]
  },
  {
   "cell_type": "code",
   "execution_count": 46,
   "metadata": {
    "collapsed": true
   },
   "outputs": [],
   "source": [
    "sales_normalized = train_normalized['Sales']\n",
    "train_normalized = train_normalized.drop(['Sales'], axis=1)\n",
    "train_normalized['Sales'] = sales_normalized"
   ]
  },
  {
   "cell_type": "code",
   "execution_count": 47,
   "metadata": {
    "collapsed": false
   },
   "outputs": [],
   "source": [
    "from sklearn.cross_validation import train_test_split\n",
    "X = train_model.drop('Sales', axis=1)\n",
    "y = train_model['Sales']\n",
    "X_train, X_test, y_train, y_test = train_test_split(X, y, random_state=42)"
   ]
  },
  {
   "cell_type": "code",
   "execution_count": 55,
   "metadata": {
    "collapsed": true
   },
   "outputs": [],
   "source": [
    "train_model.to_csv(\"processed-data/rossmann/train_model.csv\")\n",
    "test_model_open.to_csv(\"processed-data/rossmann/test_model.csv\")"
   ]
  }
 ],
 "metadata": {
  "kernelspec": {
   "display_name": "Python 3",
   "language": "python",
   "name": "python3"
  },
  "language_info": {
   "codemirror_mode": {
    "name": "ipython",
    "version": 3
   },
   "file_extension": ".py",
   "mimetype": "text/x-python",
   "name": "python",
   "nbconvert_exporter": "python",
   "pygments_lexer": "ipython3",
   "version": "3.6.0"
  }
 },
 "nbformat": 4,
 "nbformat_minor": 2
}
